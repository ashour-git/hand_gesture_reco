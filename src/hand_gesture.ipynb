{
 "cells": [
  {
   "cell_type": "code",
   "id": "initial_id",
   "metadata": {
    "collapsed": true,
    "jupyter": {
     "is_executing": true
    }
   },
   "source": [
    "import pandas as pd\n",
    "import numpy as np\n",
    "import matplotlib.pyplot as plt\n",
    "import seaborn as sns\n",
    "\n",
    "# Load the dataset\n",
    "train_df = pd.read_csv('sign_mnist_train.csv')\n",
    "test_df = pd.read_csv('sign_mnist_test.csv')\n",
    "\n",
    "# Display basic info\n",
    "print(train_df.info())\n",
    "print(train_df['label'].value_counts())\n",
    "\n",
    "# Visualize some samples\n",
    "def plot_sample_images(df, num_samples=5):\n",
    "    fig, axes = plt.subplots(1, num_samples, figsize=(15, 3))\n",
    "    for i, ax in enumerate(axes):\n",
    "        sample = df.sample().iloc[0]\n",
    "        image = sample.drop('label').values.reshape(28, 28)\n",
    "        ax.imshow(image, cmap='gray')\n",
    "        ax.set_title(f\"Label: {chr(65 + sample['label'])}\")\n",
    "        ax.axis('off')\n",
    "    plt.show()\n",
    "\n",
    "plot_sample_images(train_df)"
   ],
   "outputs": [],
   "execution_count": null
  },
  {
   "metadata": {},
   "cell_type": "code",
   "outputs": [],
   "execution_count": null,
   "source": [
    "import cv2\n",
    "import mediapipe as mp\n",
    "\n",
    "mp_hands = mp.solutions.hands\n",
    "hands = mp_hands.Hands(static_image_mode=True, max_num_hands=1, min_detection_confidence=0.5)\n",
    "mp_drawing = mp.solutions.drawing_utils\n",
    "\n",
    "def extract_landmarks(image_path):\n",
    "    image = cv2.imread(image_path)\n",
    "    image_rgb = cv2.cvtColor(image, cv2.COLOR_BGR2RGB)\n",
    "    results = hands.process(image_rgb)\n",
    "    if results.multi_hand_landmarks:\n",
    "        for hand_landmarks in results.multi_hand_landmarks:\n",
    "            landmarks = []\n",
    "            for lm in hand_landmarks.landmark:\n",
    "                landmarks.extend([lm.x, lm.y, lm.z])\n",
    "            return np.array(landmarks)\n",
    "    return None\n",
    "\n",
    "# Example: Process a single image (replace with your dataset)\n",
    "# landmarks = extract_landmarks('path_to_image.jpg')"
   ],
   "id": "ff8e7e8397d00a14"
  },
  {
   "metadata": {},
   "cell_type": "code",
   "outputs": [],
   "execution_count": null,
   "source": [
    "from tensorflow.keras.preprocessing.image import ImageDataGenerator\n",
    "\n",
    "datagen = ImageDataGenerator(\n",
    "    rotation_range=20,\n",
    "    width_shift_range=0.2,\n",
    "    height_shift_range=0.2,\n",
    "    zoom_range=0.2,\n",
    "    horizontal_flip=True,\n",
    "    fill_mode='nearest'\n",
    ")\n",
    "\n",
    "# Prepare data for augmentation\n",
    "X_train = train_df.drop('label', axis=1).values.reshape(-1, 28, 28, 1) / 255.0\n",
    "y_train = train_df['label'].values\n",
    "X_test = test_df.drop('label', axis=1).values.reshape(-1, 28, 28, 1) / 255.0\n",
    "y_test = test_df['label'].values\n",
    "\n",
    "# Augment data\n",
    "augmented_data = datagen.flow(X_train, y_train, batch_size=32)"
   ],
   "id": "d19b48cc61fd3dc3"
  },
  {
   "metadata": {},
   "cell_type": "code",
   "outputs": [],
   "execution_count": null,
   "source": "",
   "id": "d6a8a3f985349e1b"
  }
 ],
 "metadata": {
  "kernelspec": {
   "display_name": "Python 3",
   "language": "python",
   "name": "python3"
  },
  "language_info": {
   "codemirror_mode": {
    "name": "ipython",
    "version": 2
   },
   "file_extension": ".py",
   "mimetype": "text/x-python",
   "name": "python",
   "nbconvert_exporter": "python",
   "pygments_lexer": "ipython2",
   "version": "2.7.6"
  }
 },
 "nbformat": 4,
 "nbformat_minor": 5
}
